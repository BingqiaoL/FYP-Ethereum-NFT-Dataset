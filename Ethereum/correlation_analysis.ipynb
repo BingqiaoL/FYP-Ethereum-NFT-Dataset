{
 "cells": [
  {
   "cell_type": "code",
   "execution_count": 2,
   "metadata": {
    "id": "jA6kvQ0JlQKj"
   },
   "outputs": [],
   "source": [
    "import pandas as pd\n",
    "import matplotlib.pyplot as plt\n",
    "from matplotlib import rcParams\n",
    "from datetime import datetime\n",
    "import numpy as np\n",
    "import statsmodels.tsa.api as sm\n",
    "from statsmodels.tsa.api import VAR\n",
    "import warnings\n",
    "import os\n",
    "from scipy.stats import pearsonr\n",
    "warnings.filterwarnings(\"ignore\")"
   ]
  },
  {
   "cell_type": "code",
   "execution_count": null,
   "metadata": {
    "id": "wKRIogcXkpZV"
   },
   "outputs": [],
   "source": [
    "eth_analysis = pd.read_csv('data/result.csv')"
   ]
  },
  {
   "cell_type": "code",
   "execution_count": null,
   "metadata": {
    "id": "KbxsPtTnmKrM"
   },
   "outputs": [],
   "source": [
    "eth_analysis['date'] = eth_analysis['date'].apply(lambda x: datetime.strptime(x, '%m/%d/%Y').date())"
   ]
  },
  {
   "cell_type": "code",
   "execution_count": null,
   "metadata": {
    "id": "O-ei55gqZEiX"
   },
   "outputs": [],
   "source": [
    "numerical_columns = ['price', 'num_nodes', 'num_edges', 'density',\n",
    "       'reciprocity', 'assortativity', 'motifs_randesu_no', 'transitivity']\n",
    "eth_analysis[numerical_columns] = eth_analysis[numerical_columns].apply(pd.to_numeric)"
   ]
  },
  {
   "cell_type": "markdown",
   "metadata": {
    "id": "AdB705-fl3si"
   },
   "source": [
    "# Correlation between price & other properties"
   ]
  },
  {
   "cell_type": "code",
   "execution_count": null,
   "metadata": {
    "colab": {
     "base_uri": "https://localhost:8080/",
     "height": 466
    },
    "id": "TfMYcbeNl8mK",
    "outputId": "a67000d7-de55-456a-e66e-376198070804"
   },
   "outputs": [],
   "source": [
    "rcParams['figure.figsize'] = 10,7\n",
    "\n",
    "fig, ax1 = plt.subplots()\n",
    "\n",
    "plt.tick_params(labelsize=12)\n",
    "\n",
    "ax1.set_xlabel('date', fontsize=14)\n",
    "ax1.set_ylabel('price', fontsize=14)\n",
    "ax1.plot(eth_analysis['date'], eth_analysis['price'], color='tab:orange', label = 'price')\n",
    "ax1.tick_params(axis='y')\n",
    "\n",
    "ax2 = ax1.twinx()  \n",
    "ax2.set_ylabel('assortativity', fontsize=14)\n",
    "ax2.plot(eth_analysis['date'], eth_analysis['assortativity'], color='tab:blue', label = 'assortativity')\n",
    "ax2.tick_params(axis='y')\n",
    "\n",
    "fig.legend(labels = ['price', 'assortativity'], loc = 'upper left', bbox_to_anchor=(0.08, 0.85), fontsize=14)\n",
    "plt.figure(dpi=300)\n",
    "plt.show()\n"
   ]
  },
  {
   "cell_type": "code",
   "execution_count": null,
   "metadata": {
    "id": "6VwDDwMdohGn"
   },
   "outputs": [],
   "source": [
    "import statsmodels.api as sm\n",
    "import numpy as np\n",
    "\n",
    "Y = eth_analysis['num_edges']\n",
    "X = eth_analysis['num_nodes']\n",
    "X = sm.add_constant(X)\n",
    "model = sm.OLS(Y,X)\n",
    "results = model.fit()"
   ]
  },
  {
   "cell_type": "code",
   "execution_count": null,
   "metadata": {
    "id": "yJju3_HKohTH"
   },
   "outputs": [],
   "source": [
    "# results.summary()"
   ]
  },
  {
   "cell_type": "markdown",
   "metadata": {
    "id": "UKJ72FrqpZFC"
   },
   "source": [
    "## Full period"
   ]
  },
  {
   "cell_type": "code",
   "execution_count": null,
   "metadata": {
    "colab": {
     "base_uri": "https://localhost:8080/"
    },
    "id": "6UIYDAOfBKxu",
    "outputId": "3ad0e89e-7efb-4476-fe0c-284964db178c"
   },
   "outputs": [],
   "source": [
    "data = eth_analysis[['price_average', 'reciprocity_average']].dropna()\n",
    "corr, p = pearsonr(data['price_average'], data['reciprocity_average'])\n",
    "print(corr, p)"
   ]
  },
  {
   "cell_type": "code",
   "execution_count": null,
   "metadata": {
    "colab": {
     "base_uri": "https://localhost:8080/"
    },
    "id": "pao4AEDA2FF0",
    "outputId": "11b974b4-8f22-4b8a-fde9-ad534fe5c91b"
   },
   "outputs": [],
   "source": [
    "data.shape"
   ]
  },
  {
   "cell_type": "code",
   "execution_count": null,
   "metadata": {
    "colab": {
     "base_uri": "https://localhost:8080/"
    },
    "id": "rTw69JNHgmj3",
    "outputId": "512ac5ea-beb5-4f12-8a20-a495bdbfb51f"
   },
   "outputs": [],
   "source": [
    "corr, p = pearsonr(df_standardized['price'], df_standardized['reciprocity'])\n",
    "print(corr, p)"
   ]
  },
  {
   "cell_type": "markdown",
   "metadata": {
    "id": "43t38n_ctAtf"
   },
   "source": [
    "## Bull"
   ]
  },
  {
   "cell_type": "code",
   "execution_count": null,
   "metadata": {
    "colab": {
     "base_uri": "https://localhost:8080/"
    },
    "id": "B8VtgY8zCWKv",
    "outputId": "258ad446-3694-4f68-d981-4b90961b587a"
   },
   "outputs": [],
   "source": [
    "data = eth_analysis.query(\"date <= datetime(2021, 5, 11, 0, 0).date()\")[['date','price_average', 'reciprocity_average']]\n",
    "data = data.dropna()\n",
    "corr, p = pearsonr(data['price_average'], data['reciprocity_average'])\n",
    "print(corr, p)"
   ]
  },
  {
   "cell_type": "markdown",
   "metadata": {
    "id": "qYyHRM8MDWmD"
   },
   "source": [
    "## Bear"
   ]
  },
  {
   "cell_type": "code",
   "execution_count": null,
   "metadata": {
    "colab": {
     "base_uri": "https://localhost:8080/"
    },
    "id": "_f2fBDMZC71H",
    "outputId": "98fc91e6-83be-4751-8ce8-7705d5e7a96d"
   },
   "outputs": [],
   "source": [
    "data = eth_analysis.query(\"date >= datetime(2021, 5, 11, 0, 0).date()\")[['date','price_average', 'reciprocity_average']]\n",
    "data = data.dropna()\n",
    "corr, p = pearsonr(data['price_average'], data['reciprocity_average'])\n",
    "print(corr, p)"
   ]
  },
  {
   "cell_type": "code",
   "execution_count": null,
   "metadata": {
    "id": "zMNEQ5bAD2bo"
   },
   "outputs": [],
   "source": [
    "results_file = '/content/drive/My Drive/fyp/analysis/result/2021/(bear) price_vs_reci.txt'\n",
    "columns = data.columns.values.tolist()\n",
    "write_results(results_file, results, columns)"
   ]
  },
  {
   "cell_type": "code",
   "execution_count": null,
   "metadata": {
    "id": "3G7oKTvFEPNk"
   },
   "outputs": [],
   "source": []
  }
 ],
 "metadata": {
  "colab": {
   "collapsed_sections": [],
   "name": "(2021) correlation analysis",
   "provenance": [],
   "toc_visible": true
  },
  "kernelspec": {
   "display_name": "Python 3 (ipykernel)",
   "language": "python",
   "name": "python3"
  },
  "language_info": {
   "codemirror_mode": {
    "name": "ipython",
    "version": 3
   },
   "file_extension": ".py",
   "mimetype": "text/x-python",
   "name": "python",
   "nbconvert_exporter": "python",
   "pygments_lexer": "ipython3",
   "version": "3.7.11"
  },
  "toc": {
   "base_numbering": 1,
   "nav_menu": {},
   "number_sections": true,
   "sideBar": true,
   "skip_h1_title": false,
   "title_cell": "Table of Contents",
   "title_sidebar": "Contents",
   "toc_cell": false,
   "toc_position": {},
   "toc_section_display": true,
   "toc_window_display": false
  }
 },
 "nbformat": 4,
 "nbformat_minor": 1
}
