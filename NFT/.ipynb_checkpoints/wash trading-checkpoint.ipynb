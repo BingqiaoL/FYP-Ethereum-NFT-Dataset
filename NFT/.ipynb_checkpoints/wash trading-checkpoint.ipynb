{
 "cells": [
  {
   "cell_type": "code",
   "execution_count": 2,
   "id": "1806be03-03ed-4bc2-97fd-6e9d4debf91c",
   "metadata": {},
   "outputs": [],
   "source": [
    "import csv\n",
    "from collections import Counter\n",
    "import random\n",
    "import pandas as pd\n",
    "import numpy as np\n",
    "from igraph import *\n",
    "import igraph\n",
    "from matplotlib import pyplot as plt\n",
    "import collections\n",
    "import powerlaw\n",
    "import seaborn as sns\n",
    "import web3\n",
    "from tqdm import tqdm\n",
    "import matplotlib.pyplot as plt\n",
    "import networkx as nx\n",
    "from networkx.algorithms import *\n",
    "\n",
    "from matplotlib import pylab as pl"
   ]
  },
  {
   "cell_type": "code",
   "execution_count": null,
   "id": "2c36ee2d-4e7f-4ab8-9576-ac4ecdca0d19",
   "metadata": {},
   "outputs": [],
   "source": [
    "EL_PATH = 'el.csv'\n",
    "MAP_PATH = 'map.csv'"
   ]
  },
  {
   "cell_type": "code",
   "execution_count": null,
   "id": "0f849687-31d2-43f9-9e65-b9f0d8881508",
   "metadata": {},
   "outputs": [],
   "source": [
    "el = pd.read_csv(EL_PATH)\n",
    "mp = pd.read_csv(MAP_PATH)\n",
    "el_no_null = el[el['fromId'] != 0]\n",
    "el_no_null = el_no_null[el_no_null['toId'] != 0]\n",
    "el_no_null = el_no_null[el_no_null['address'] != 0]\n",
    "print('finished reading el and mp')"
   ]
  },
  {
   "cell_type": "code",
   "execution_count": null,
   "id": "d8e2fdf6",
   "metadata": {},
   "outputs": [],
   "source": [
    "multi_g_no_null = Graph.DataFrame(el_no_null, directed = True)\n",
    "# multi_g = Graph.DataFrame(el, directed = True)\n",
    "multi_g_no_null_nx = nx.from_pandas_edgelist(el_no_null, source='fromId', target='toId', create_using=nx.MultiDiGraph, edge_attr=True)\n",
    "print('finished creating graphs')"
   ]
  },
  {
   "cell_type": "markdown",
   "id": "b4c03fdc",
   "metadata": {},
   "source": [
    "# wash trading 101 "
   ]
  },
  {
   "cell_type": "code",
   "execution_count": null,
   "id": "6f0f8427",
   "metadata": {},
   "outputs": [],
   "source": [
    "def wash_trading_101(multi_g_no_null_nx): \n",
    "    res0 = []\n",
    "    # u -> v -> u\n",
    "    for u in tqdm(multi_g_no_null_nx.nodes):\n",
    "        for _, v, data in multi_g_no_null_nx.out_edges(u, data=True):\n",
    "            # not sell or self loop\n",
    "            if data['val'] <= 1e-15 or u == v: \n",
    "                continue\n",
    "            for _, a, data2 in multi_g_no_null_nx.out_edges(v, data=True):\n",
    "                    if a == u and \\\n",
    "                    data['address'] == data2['address'] and \\\n",
    "                    data['tokenId'] == data2['tokenId'] and \\\n",
    "                    data2['block_number'] - data['block_number'] <= 7200 and \\\n",
    "                    data2['block_number'] - data['block_number'] >= 0:\n",
    "                        res0.append((u, v, a, \\\n",
    "                                     data['block_number'], data2['block_number'], \\\n",
    "                                     data['address'], data['tokenId'],\\\n",
    "                                     data['val'], data2['val']))\n",
    "                        \n",
    "                        \n",
    "                        break\n",
    "    res0_df = pd.DataFrame(res0)\n",
    "    res0_df.columns = ['u', 'v', 'a', 'block_number1', 'block_number2', 'address', 'token', 'var1', 'var2']\n",
    "    return res0_df"
   ]
  },
  {
   "cell_type": "code",
   "execution_count": null,
   "id": "b3ede8a3",
   "metadata": {},
   "outputs": [],
   "source": [
    "res0 = wash_trading_101(multi_g_no_null_nx)"
   ]
  },
  {
   "cell_type": "markdown",
   "id": "5008d165",
   "metadata": {},
   "source": [
    "### test time granularity"
   ]
  },
  {
   "cell_type": "code",
   "execution_count": null,
   "id": "eec1cb0f",
   "metadata": {},
   "outputs": [],
   "source": [
    "hours = [2, 6, 12, 24]\n",
    "result_dfs = []\n",
    "processed_dfs = []"
   ]
  },
  {
   "cell_type": "code",
   "execution_count": null,
   "id": "175021fc",
   "metadata": {},
   "outputs": [],
   "source": [
    "def wash_trading_hours(multi_g_no_null_nx, hour, involved_):\n",
    "    res0 = []\n",
    "    # u -> v -> u\n",
    "    \n",
    "    for u in tqdm(multi_g_no_null_nx.nodes):\n",
    "        for _, v, data in multi_g_no_null_nx.out_edges(u, data=True):\n",
    "            # not sell or self loop\n",
    "            if data['val'] <= 1e-15 or u == v: \n",
    "                continue\n",
    "            for _, a, data2 in multi_g_no_null_nx.out_edges(v, data=True):\n",
    "                    if a == u and \\\n",
    "                    data['address'] == data2['address'] and \\\n",
    "                    data['tokenId'] == data2['tokenId'] and \\\n",
    "                    data2['block_number'] - data['block_number'] <= (300*hour) and \\\n",
    "                    data2['block_number'] - data['block_number'] >= 0:\n",
    "                        res0.append((u, v, a, \\\n",
    "                                     data['block_number'], data2['block_number'], \\\n",
    "                                     data['address'], data['tokenId'],\\\n",
    "                                     data['val'], data2['val']))\n",
    "                        break\n",
    "    res0_df = pd.DataFrame(res0)\n",
    "    res0_df.columns = ['u', 'v', 'a', 'block_number1', 'block_number2', 'address', 'token', 'var1', 'var2']\n",
    "    res0_df.to_csv('wash_trading_101_df_'+ str(i)+'.csv', index = 0)"
   ]
  },
  {
   "cell_type": "markdown",
   "id": "c5c84cc7",
   "metadata": {},
   "source": [
    "# first seller buys it back"
   ]
  },
  {
   "cell_type": "code",
   "execution_count": null,
   "id": "6621bf29",
   "metadata": {},
   "outputs": [],
   "source": [
    "def first_seller_buys_it_back(multi_g_no_null_nx):\n",
    "    res1 = []\n",
    "    # u -> v -(transfer)-> x -> u\n",
    "    for u in tqdm(multi_g_no_null_nx.nodes):\n",
    "        for _, v, data in multi_g_no_null_nx.out_edges(u, data=True):\n",
    "            # not sell or self loop\n",
    "            if data['val'] <= 1e-15 or u == v: \n",
    "                continue\n",
    "            for _, x, data2 in multi_g_no_null_nx.out_edges(v, data=True):\n",
    "                # not transfer or self loop or x is u\n",
    "                if data2['val'] >= 1e-15 or v == x or x == u or data2['block_number'] < data['block_number']: \n",
    "                    continue\n",
    "                if data['address'] != data2['address'] or data['tokenId'] != data2['tokenId']:\n",
    "                    continue\n",
    "                for _, a, data3 in multi_g_no_null_nx.out_edges(x, data=True):\n",
    "                    if a == u and data['address'] == data3['address'] and data['tokenId'] == data3['tokenId'] \\\n",
    "                    and 0 <= data3['block_number'] - data['block_number'] <= (7200 * 30):\n",
    "                        res1.append((u, v, x, a, \\\n",
    "                                     data['block_number'], data2['block_number'], data3['block_number'], \\\n",
    "                                     data['address'], data['tokenId'],\n",
    "                                     data['val'], data2['val'], data3['val']))\n",
    "                                            \n",
    "                        break\n",
    "    \n",
    "    if len(res1) == 0:\n",
    "        print(\"no records\")\n",
    "        return\n",
    "    \n",
    "    res1_df = pd.DataFrame(res1)\n",
    "    res1_df.columns = ['u', 'v', 'x', 'a', 'block_number1', 'block_number2', 'block_number3', \\\n",
    "                   'address', 'token', 'var1', 'var2', 'var3']\n",
    "    return res1_df"
   ]
  },
  {
   "cell_type": "code",
   "execution_count": null,
   "id": "5fcd232d",
   "metadata": {},
   "outputs": [],
   "source": [
    "res1 = first_seller_buys_it_back(multi_g_no_null_nx)"
   ]
  },
  {
   "cell_type": "markdown",
   "id": "c04c76aa",
   "metadata": {},
   "source": [
    "# first buyer buys it back"
   ]
  },
  {
   "cell_type": "code",
   "execution_count": null,
   "id": "93b0843b",
   "metadata": {},
   "outputs": [],
   "source": [
    "def first_buyer_buys_it_back(multi_g_no_null_nx):\n",
    "    res2 = []\n",
    "\n",
    "    # u -> v -> x -> v\n",
    "    # tqdm(sample(list(multi_g_no_null_nx.nodes), 10000))\n",
    "    for u in tqdm(multi_g_no_null_nx.nodes):\n",
    "        for _, v, data in multi_g_no_null_nx.out_edges(u, data=True):\n",
    "            # not sell or self loop\n",
    "            if data['val'] <= 1e-15 or u == v: \n",
    "                continue\n",
    "            for _, x, data2 in multi_g_no_null_nx.out_edges(v, data=True):\n",
    "                # not transfer or self loop or x is u\n",
    "                if v == x or x == u or data2['block_number'] < data['block_number']: \n",
    "                    continue\n",
    "                if data['address'] != data2['address'] or data['tokenId'] != data2['tokenId']:\n",
    "                    continue\n",
    "                for _, a, data3 in multi_g_no_null_nx.out_edges(x, data=True):\n",
    "                    if a == v and data['address'] == data3['address'] and \\\n",
    "                    data['tokenId'] == data3['tokenId'] and \\\n",
    "                    0 <= data3['block_number'] - data['block_number'] <= 7200 * 30 and \\\n",
    "                    data3['val'] >= 1e-15:\n",
    "                        res2.append((u, v, x, a, \\\n",
    "                                     data['block_number'], data2['block_number'], data3['block_number'], \\\n",
    "                                     data['address'], data['tokenId'], \\\n",
    "                                     data['val'], data2['val'], data3['val']))\n",
    "                        \n",
    "                        break\n",
    "    if len(res2) == 0:\n",
    "        print(\"no records\")\n",
    "        return\n",
    "    \n",
    "    res2_df = pd.DataFrame(res2)\n",
    "    res2_df.columns = ['u', 'v', 'x', 'a', 'block_number1', 'block_number2', 'block_number3', \\\n",
    "                   'address', 'token', 'var1', 'var2', 'var3']\n",
    "    return res2_df"
   ]
  },
  {
   "cell_type": "code",
   "execution_count": null,
   "id": "e9cee38a",
   "metadata": {},
   "outputs": [],
   "source": [
    "res2 = first_buyer_buys_it_back(multi_g_no_null_nx, wash_el1)\n",
    "res2.head()"
   ]
  },
  {
   "cell_type": "markdown",
   "id": "f497b5e1",
   "metadata": {},
   "source": [
    "# best selling creator"
   ]
  },
  {
   "cell_type": "code",
   "execution_count": null,
   "id": "f1208c30",
   "metadata": {},
   "outputs": [],
   "source": [
    "def best_selling_creator(multi_g_no_null_nx):\n",
    "    res3 = []\n",
    "    # u -> v ->(trans) u -> x\n",
    "    # tqdm(sample(list(multi_g_no_null_nx.nodes), 10000))\n",
    "    for u in tqdm(multi_g_no_null_nx.nodes):\n",
    "        for _, v, data in multi_g_no_null_nx.out_edges(u, data=True):\n",
    "            # not sell or self loop\n",
    "            if data['val'] <= 1e-15 or u == v: \n",
    "                continue\n",
    "            for _, x, data2 in multi_g_no_null_nx.out_edges(v, data=True):\n",
    "                # not transfer or self loop or x is u\n",
    "                if x != u or data2['block_number'] < data['block_number']: \n",
    "                    continue\n",
    "                if data['address'] != data2['address'] or data['tokenId'] != data2['tokenId']:\n",
    "                    continue\n",
    "                for _, a, data3 in multi_g_no_null_nx.out_edges(x, data=True):\n",
    "                    if a != v and data['address'] == data3['address'] and \\\n",
    "                    data['tokenId'] == data3['tokenId'] and \\\n",
    "                    data2['val'] == 0 and \\\n",
    "                    0 <= data3['block_number'] - data['block_number'] <= 7200 * 30 and \\\n",
    "                    data3['val'] >= 1e-15:\n",
    "                        res3.append((u, v, x, a, data['block_number'], data2['block_number'], data3['block_number'], \\\n",
    "                                     data['address'], data['tokenId'], \\\n",
    "                                     data['val'], data2['val'], data3['val']))\n",
    "                        break\n",
    "    if len(res3) == 0:\n",
    "        print(\"no records\")\n",
    "        return\n",
    "    \n",
    "    res3_df = pd.DataFrame(res3)\n",
    "    res3_df.columns = ['u', 'v', 'x', 'a', 'block_number1', 'block_number2', 'block_number3', \\\n",
    "                   'address', 'token', 'var1', 'var2', 'var3']\n",
    "    return res3_df"
   ]
  },
  {
   "cell_type": "code",
   "execution_count": null,
   "id": "cf877496",
   "metadata": {},
   "outputs": [],
   "source": [
    "# res3_df.to_csv('res3_df.csv', index = 0)"
   ]
  }
 ],
 "metadata": {
  "kernelspec": {
   "display_name": "Python 3 (ipykernel)",
   "language": "python",
   "name": "python3"
  },
  "language_info": {
   "codemirror_mode": {
    "name": "ipython",
    "version": 3
   },
   "file_extension": ".py",
   "mimetype": "text/x-python",
   "name": "python",
   "nbconvert_exporter": "python",
   "pygments_lexer": "ipython3",
   "version": "3.7.11"
  },
  "toc": {
   "base_numbering": 1,
   "nav_menu": {},
   "number_sections": true,
   "sideBar": true,
   "skip_h1_title": false,
   "title_cell": "Table of Contents",
   "title_sidebar": "Contents",
   "toc_cell": false,
   "toc_position": {
    "height": "calc(100% - 180px)",
    "left": "10px",
    "top": "150px",
    "width": "302.391px"
   },
   "toc_section_display": true,
   "toc_window_display": true
  }
 },
 "nbformat": 4,
 "nbformat_minor": 5
}
